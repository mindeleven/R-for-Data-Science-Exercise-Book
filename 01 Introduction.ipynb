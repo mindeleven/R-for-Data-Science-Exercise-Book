{
 "cells": [
  {
   "cell_type": "markdown",
   "metadata": {},
   "source": [
    "# Introduction to R for Data Science"
   ]
  },
  {
   "cell_type": "markdown",
   "metadata": {},
   "source": [
    "This excercise book follows the R for Data Science website, located at https://r4ds.had.co.nz/ with the ggplot2 website at https://ggplot2.tidyverse.org/index.html as a source of refernce."
   ]
  },
  {
   "cell_type": "markdown",
   "metadata": {},
   "source": [
    "Tools in a typical data science project:\n",
    "\n",
    "### 1. Import your data (into R)\n",
    "Data that's stored externally gets loaded into a data frame in R.\n",
    "\n",
    "### 2. Tidying your data (Wrangling part 1)\n",
    "When data is tidy each column is a variable and each row is an observation.\n",
    "\n",
    "### 3. Transformation of data (Wrangling part 2)\n",
    "You choose your areas or observations of interest and then you narrow in on these observations by creating new variables out of existing ones or calculating summary statistics.\n",
    "\n",
    "### 4. Visualisation\n",
    "Visualisations will help you to explore the data by showing unexpected relations that may lead to new hypotheses.\n",
    "\n",
    "### 5. Models\n",
    "Models are complementary to visualisations and can be used to answer your formulated questions. A model is based on assumptions that the model itself cannot question."
   ]
  },
  {
   "cell_type": "markdown",
   "metadata": {},
   "source": [
    "### Packages used for the examples\n",
    "The packages that will be use here are tidyverse, nycflights13 (data on airline flights), gapminder (data on world development) and Lahman (data on baseball). The tidyverse packages loads the ggplot2, tibble, tidyr, readr, purrr, and dplyr packages."
   ]
  },
  {
   "cell_type": "code",
   "execution_count": 9,
   "metadata": {},
   "outputs": [],
   "source": [
    "library(tidyverse)\n",
    "library(nycflights13)\n",
    "library(gapminder)\n",
    "library(Lahman)"
   ]
  },
  {
   "cell_type": "code",
   "execution_count": null,
   "metadata": {},
   "outputs": [],
   "source": []
  }
 ],
 "metadata": {
  "kernelspec": {
   "display_name": "R",
   "language": "R",
   "name": "ir"
  },
  "language_info": {
   "codemirror_mode": "r",
   "file_extension": ".r",
   "mimetype": "text/x-r-source",
   "name": "R",
   "pygments_lexer": "r",
   "version": "3.6.3"
  }
 },
 "nbformat": 4,
 "nbformat_minor": 2
}
